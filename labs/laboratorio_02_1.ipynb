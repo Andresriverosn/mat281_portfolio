{
 "cells": [
  {
   "cell_type": "markdown",
   "metadata": {},
   "source": [
    "<img src=\"images/usm.jpg\" width=\"480\" height=\"240\" align=\"left\"/>"
   ]
  },
  {
   "cell_type": "markdown",
   "metadata": {},
   "source": [
    "# MAT281 - Laboratorio N°02\n",
    "\n",
    "## Objetivos de la clase\n",
    "\n",
    "* Reforzar los conceptos básicos de numpy."
   ]
  },
  {
   "cell_type": "markdown",
   "metadata": {},
   "source": [
    "## Contenidos\n",
    "\n",
    "* [Problema 01](#p1)\n",
    "* [Problema 02](#p2)\n",
    "* [Problema 03](#p3)"
   ]
  },
  {
   "cell_type": "markdown",
   "metadata": {},
   "source": [
    "<a id='p1'></a>\n",
    "\n",
    "## Problema 01\n",
    "\n",
    "Una **media móvil simple** (SMA) es el promedio de los últimos $k$ datos anteriores, es decir, sea $a_1$,$a_2$,...,$a_n$ un arreglo $n$-dimensional, entonces la SMA se define por:\n",
    "\n",
    "$$\\displaystyle sma(k) =\\dfrac{1}{k}(a_{n}+a_{n-1}+...+a_{n-(k-1)}) = \\dfrac{1}{k}\\sum_{i=0}^{k-1}a_{n-i}  $$ \n",
    "\n",
    "\n",
    "Por otro lado podemos definir el SMA con una venta móvil de $n$ si el resultado nos retorna la el promedio ponderado avanzando de la siguiente forma:\n",
    "\n",
    "* $a = [1,2,3,4,5]$, la SMA con una ventana de $n=2$ sería:\n",
    " * sma(2) = [mean(1,2),mean(2,3),mean(3,4)] = [1.5, 2.5, 3.5, 4.5]\n",
    " * sma(3) = [mean(1,2,3),mean(2,3,4),mean(3,4,5)] = [2.,3.,4.]\n",
    "\n",
    "\n",
    "Implemente una función llamada `sma` cuyo input sea un arreglo unidimensional $a$ y un entero $n$, y cuyo ouput retorne el valor de la media móvil simple sobre el arreglo de la siguiente forma:\n",
    "\n",
    "* **Ejemplo**: *sma([5,3,8,10,2,1,5,1,0,2], 2)* = $[4. , 5.5, 9. , 6. , 1.5, 3. , 3. , 0.5, 1. ]$\n",
    "\n",
    "En este caso, se esta calculando el SMA para un arreglo con una ventana de $n=2$.\n",
    "\n",
    "**Hint**: utilice la función `numpy.cumsum`"
   ]
  },
  {
   "cell_type": "code",
   "execution_count": 2,
   "metadata": {},
   "outputs": [],
   "source": [
    "# importar librerias\n",
    "import numpy as np "
   ]
  },
  {
   "cell_type": "markdown",
   "metadata": {},
   "source": [
    "### Definir Función"
   ]
  },
  {
   "cell_type": "code",
   "execution_count": 18,
   "metadata": {},
   "outputs": [],
   "source": [
    "def sma(a:np.array,n:int)->np.array: \n",
    "        \"\"\"\n",
    "    sma(a,n)\n",
    "\n",
    "    Entrega la media móvil de un arreglo de nuúmeros con respecto a una ventana de tamaño n\n",
    "\n",
    "    Parameters\n",
    "    ----------\n",
    "    a : np.array\n",
    "        arreglo de números.\n",
    "    n: int\n",
    "       tamaño de ventana\n",
    "    \n",
    "    Returns\n",
    "    -------\n",
    "    output : np.array\n",
    "        arreglo con la media movil de los datos ,asociada a la ventana n\n",
    "        \n",
    "    Examples\n",
    "    --------\n",
    "    >>>sma([5,3,8,10,2,1,5,1,0,2], 2) =  [4.,5.5,9.,6.,1.5,3.,3.,0.5,1.]\n",
    "    \"\"\"\n",
    "    ar=np.empty(len(a)-n+1) # arreglo vacio para guardar los datos\n",
    "    for i in range(len(ar)):\n",
    "        ar[i]=np.cumsum(a[i:i+n])[-1]/n #agrego el promedio de los n-datos desde el indice i al n\n",
    "    return ar "
   ]
  },
  {
   "cell_type": "code",
   "execution_count": 56,
   "metadata": {},
   "outputs": [
    {
     "data": {
      "text/plain": [
       "array([4. , 5.5, 9. , 6. , 1.5, 3. , 3. , 0.5, 1. ])"
      ]
     },
     "execution_count": 56,
     "metadata": {},
     "output_type": "execute_result"
    }
   ],
   "source": [
    "sma(np.array([5,3,8,10,2,1,5,1,0,2]), 2)"
   ]
  },
  {
   "cell_type": "markdown",
   "metadata": {},
   "source": [
    "### Verificar ejemplos"
   ]
  },
  {
   "cell_type": "code",
   "execution_count": 24,
   "metadata": {},
   "outputs": [],
   "source": [
    "# ejemplo 01\n",
    "a = [1,2,3,4,5]\n",
    "\n",
    "np.testing.assert_array_equal(\n",
    "    sma(a, n=2),\n",
    "    np.array([1.5, 2.5, 3.5, 4.5])\n",
    ")"
   ]
  },
  {
   "cell_type": "code",
   "execution_count": null,
   "metadata": {},
   "outputs": [],
   "source": [
    "# ejemplo 02\n",
    "a = [5,3,8,10,2,1,5,1,0,2]\n",
    "\n",
    "np.testing.assert_array_equal(\n",
    "    sma(a, window_len=2),\n",
    "    np.array([4. , 5.5, 9. , 6. , 1.5, 3. , 3. , 0.5, 1. ])\n",
    ")"
   ]
  },
  {
   "cell_type": "markdown",
   "metadata": {},
   "source": [
    "<a id='p2'></a>\n",
    "\n",
    "## Problema 02\n",
    "\n",
    "La función **strides($a,n,p$)**, corresponde a transformar un arreglo unidimensional $a$ en una matriz de $n$ columnas, en el cual las filas se van construyendo desfasando la posición del arreglo en $p$ pasos hacia adelante.\n",
    "\n",
    "* Para el arreglo unidimensional $a$ = [ 1,  2,  3,  4,  5,  6,  7,  8,  9, 10], la función strides($a,4,2$), corresponde a crear una matriz de $4$ columnas, cuyos desfaces hacia adelante se hacen de dos en dos. \n",
    "\n",
    "El resultado tendría que ser algo así:$$\\begin{pmatrix}\n",
    " 1& 2 &3 &4 \\\\ \n",
    " 3&  4&5&6 \\\\ \n",
    " 5& 6 &7 &8 \\\\ \n",
    " 7& 8 &9 &10 \\\\ \n",
    "\\end{pmatrix}$$\n",
    "\n",
    "\n",
    "Implemente una función llamada `strides(a,4,2)` cuyo input sea un arreglo unidimensional y retorne la matriz de $4$ columnas, cuyos desfaces hacia adelante se hacen de dos en dos. \n",
    "\n",
    "* **Ejemplo**: *strides($a$,4,2)* =$\\begin{pmatrix}\n",
    " 1& 2 &3 &4 \\\\ \n",
    " 3&  4&5&6 \\\\ \n",
    " 5& 6 &7 &8 \\\\ \n",
    " 7& 8 &9 &10 \\\\ \n",
    "\\end{pmatrix}$\n"
   ]
  },
  {
   "cell_type": "markdown",
   "metadata": {},
   "source": [
    "### Definir Función"
   ]
  },
  {
   "cell_type": "code",
   "execution_count": 71,
   "metadata": {},
   "outputs": [],
   "source": [
    "def strides(a:np.array,n:int,p:int)->np.array:\n",
    "    \"\"\"\n",
    "    strides(a,n,p)\n",
    "     Transformar un arreglo unidimensional en una matriz de  𝑛  columnas, en el cual las filas se van construyendo desfasando la posición del arreglo en  𝑝  pasos hacia adelante.\n",
    "\n",
    "\n",
    "    Parameters\n",
    "    ----------\n",
    "    a : np.array\n",
    "        arreglo de números.\n",
    "    n: int\n",
    "       número de columnas de la matriz a generar\n",
    "    p: int\n",
    "       entero que se suma a cada fila para poder construir la siguiente\n",
    "    \n",
    "    Returns\n",
    "    -------\n",
    "    output : np.array\n",
    "        Matriz obtenida según la descripción entregada\n",
    "        \n",
    "    Examples\n",
    "    --------\n",
    "    >>>strides(np.array([ 1,  2,  3,  4,  5,  6,  7,  8,  9, 10]),4,2)=np.array([[ 1,  2,  3,  4],\n",
    "                                                                                 [ 3,  4,  5,  6],\n",
    "                                                                                 [ 5,  6,  7,  8],\n",
    "                                                                                 [ 7,  8,  9, 10]])\n",
    "    \"\"\"\n",
    "    \n",
    "    ar=a[:n] #primera fila de la matriz\n",
    "    \n",
    "    if len(ar)==n:\n",
    "        ar=np.vstack((ar,ar+p)) #agrega la fila siguiente despues de la primera fila\n",
    "    while ar[-1][-1]+p in a: #si el ultimo elemento de la siguiente fila esta en a, ...\n",
    "        ar=np.vstack((ar,ar[-1]+p)) #.. se agrega la fila siguiente\n",
    "    \n",
    "    return ar\n",
    "    "
   ]
  },
  {
   "cell_type": "code",
   "execution_count": 76,
   "metadata": {},
   "outputs": [
    {
     "data": {
      "text/plain": [
       "array([[ 1,  2,  3,  4],\n",
       "       [ 3,  4,  5,  6],\n",
       "       [ 5,  6,  7,  8],\n",
       "       [ 7,  8,  9, 10]])"
      ]
     },
     "execution_count": 76,
     "metadata": {},
     "output_type": "execute_result"
    }
   ],
   "source": [
    "strides(np.array([ 1, 2, 3, 4, 5, 6, 7, 8, 9, 10]),4,2)"
   ]
  },
  {
   "cell_type": "markdown",
   "metadata": {},
   "source": [
    "### Verificar ejemplos"
   ]
  },
  {
   "cell_type": "code",
   "execution_count": 77,
   "metadata": {},
   "outputs": [],
   "source": [
    "# ejemplo 01\n",
    "a = np.array([ 1,  2,  3,  4,  5,  6,  7,  8,  9, 10])\n",
    "n=4\n",
    "p=2\n",
    "\n",
    "np.testing.assert_array_equal(\n",
    "    strides(a,n,p),\n",
    "    np.array([\n",
    "       [ 1,  2,  3,  4],\n",
    "       [ 3,  4,  5,  6],\n",
    "       [ 5,  6,  7,  8],\n",
    "       [ 7,  8,  9, 10]])\n",
    ")"
   ]
  },
  {
   "cell_type": "markdown",
   "metadata": {},
   "source": [
    "<a id='p3'></a>\n",
    "\n",
    "## Problema 03\n",
    "\n",
    "\n",
    "Un **cuadrado mágico** es una matriz de tamaño $n \\times n$ de números enteros positivos tal que \n",
    "la suma de los números por columnas, filas y diagonales principales sea la misma. Usualmente, los números empleados para rellenar las casillas son consecutivos, de 1 a $n^2$, siendo $n$ el número de columnas y filas del cuadrado mágico.\n",
    "\n",
    "Si los números son consecutivos de 1 a $n^2$, la suma de los números por columnas, filas y diagonales principales \n",
    "es igual a : $$\\displaystyle M_{n} = \\dfrac{n(n^2+1)}{2}$$\n",
    "Por ejemplo, \n",
    "\n",
    "* $A= \\begin{pmatrix}\n",
    " 4& 9 &2 \\\\ \n",
    " 3&  5&7 \\\\ \n",
    " 8& 1 &6 \n",
    "\\end{pmatrix}$,\n",
    "es un cuadrado mágico.\n",
    "\n",
    "* $B= \\begin{pmatrix}\n",
    " 4& 2 &9 \\\\ \n",
    " 3&  5&7 \\\\ \n",
    " 8& 1 &6 \n",
    "\\end{pmatrix}$, no es un cuadrado mágico.\n",
    "\n",
    "Implemente una función llamada `es_cudrado_magico` cuyo input sea una matriz cuadrada de tamaño $n$ con números consecutivos de $1$ a $n^2$ y cuyo ouput retorne *True* si es un cuadrado mágico o 'False', en caso contrario\n",
    "\n",
    "* **Ejemplo**: *es_cudrado_magico($A$)* = True, *es_cudrado_magico($B$)* = False\n",
    "\n",
    "**Hint**: Cree una función que valide la mariz es cuadrada y  que sus números son consecutivos del 1 a $n^2$."
   ]
  },
  {
   "cell_type": "markdown",
   "metadata": {},
   "source": [
    "### Definir Función"
   ]
  },
  {
   "cell_type": "code",
   "execution_count": 190,
   "metadata": {},
   "outputs": [],
   "source": [
    "def cuad_y_cons(a:np.array)->bool:\n",
    "    \"\"\"\n",
    "    cuad_y_cons(a)\n",
    "    \n",
    "    Verifica si una matriz es cuadrada y si sus entradas son consecutivas\n",
    "\n",
    "    Parameters\n",
    "    ----------\n",
    "    a : np.array\n",
    "        matriz de enteros\n",
    "        \n",
    "    Returns\n",
    "    -------\n",
    "    output : bool\n",
    "        booliano que dice si la matriz es cuadrada y con numeros consecutivos o no.\n",
    "        \n",
    "    Examples\n",
    "    --------\n",
    "    >>>cuad_y_cons(np.array([[4,9,2],[3,5,7],[8,1,6]]))=True\n",
    "    \"\"\"\n",
    "    ar=np.sort(np.copy(a.reshape(-1))) # se transforma la matriz en un arreglo unidimensional ordenado\n",
    "    if len(a[0])==len(a): #criterio de que la matriz es cuadrada\n",
    "        for i in range(len(ar)): \n",
    "            if ar[i]!=np.arange(1,len(ar)+1)[i]: #verifica la igualdad entre un arreglo ordenado de 1 hasta n^2 y a unidimensional\n",
    "                return False #si falla en alguno, no es cuadrada\n",
    "        return True\n",
    "    return False\n",
    "\n",
    "def sum_col(a:np.array,i:int)->float:\n",
    "    \"\"\"\n",
    "    sum_col(a,i)\n",
    "    \n",
    "    Entrega la suma de los numeros en la i-esima columna de una matriz\n",
    "\n",
    "    Parameters\n",
    "    ----------\n",
    "    a : np.array\n",
    "        matriz de enteros\n",
    "    i: int\n",
    "       indice de la columna que se desea obtener la suma\n",
    "    Returns\n",
    "    -------\n",
    "    output : float\n",
    "        suma de la i-esima columna\n",
    "        \n",
    "    Examples\n",
    "    --------\n",
    "    >>>sum_col(np.array([[4,9,2],[3,5,7],[8,1,6]]),1)=15\n",
    "    \"\"\"\n",
    "    s=0\n",
    "    for k in range(len(a)):\n",
    "        s+=a[k][i] #alternando en cada fila de la matriz, se suman los i-esimos numeros de cada fila\n",
    "    return s\n",
    "\n",
    "def sum_fil(a:np.array,i:int)->float:\n",
    "    \"\"\"\n",
    "    sum_fil(a,i)\n",
    "    \n",
    "    Entrega la suma de los numeros en la i-esima fila de una matriz\n",
    "\n",
    "    Parameters\n",
    "    ----------\n",
    "    a : np.array\n",
    "        matriz de enteros\n",
    "    i: int\n",
    "       indice de la fila que se desea obtener la suma\n",
    "    Returns\n",
    "    -------\n",
    "    output : float\n",
    "        suma de la i-esima fila\n",
    "        \n",
    "    Examples\n",
    "    --------\n",
    "    >>>sum_col(np.array([[4,9,2],[3,5,7],[8,1,6]]),1)=15\n",
    "    \"\"\"\n",
    "    s=0\n",
    "    for k in range(len(a)):\n",
    "        s+=a[i][k] #alternando en cada columna de la matriz, se suman los i-esimos numeros de cada columna\n",
    "    return s\n",
    "\n",
    "def diag_p(a:np.array)->float:\n",
    "    \"\"\"\n",
    "    diag_p(a)\n",
    "    \n",
    "    Entrega la suma de la diagonal principal de una matriz\n",
    "\n",
    "    Parameters\n",
    "    ----------\n",
    "    a : np.array\n",
    "        matriz de enteros\n",
    "        \n",
    "    Returns\n",
    "    -------\n",
    "    output : float\n",
    "        suma de la diagonal principal\n",
    "        \n",
    "    Examples\n",
    "    --------\n",
    "    >>>diag_p(np.array([[4,9,2],[3,5,7],[8,1,6]]))=15\n",
    "    \"\"\"\n",
    "    s=0\n",
    "    for i in range(len(a)):\n",
    "        s+=a[i][i] # suma los terminos de igual indice en columna y fila de la matriz\n",
    "    return s\n",
    "\n",
    "def diag_r(a:np.array)->float:\n",
    "    \"\"\"\n",
    "    diag_r(a)\n",
    "    \n",
    "    Entrega la suma de la diagonal inversa de una matriz\n",
    "\n",
    "    Parameters\n",
    "    ----------\n",
    "    a : np.array\n",
    "        matriz de enteros\n",
    "        \n",
    "    Returns\n",
    "    -------\n",
    "    output : float\n",
    "        suma de la diagonal inversa\n",
    "        \n",
    "    Examples\n",
    "    --------\n",
    "    >>>diag_p(np.array([[4,9,2],[3,5,7],[8,1,6]]))=15\n",
    "    \"\"\"\n",
    "    s=0\n",
    "    for i in range(len(a)):\n",
    "        s+=a[i][len(a)-1-i] # en cada i-esima fila, se van sumando cada i-esimo termino en reversa  \n",
    "    return s\n",
    "    \n",
    "def es_cudrado_magico(a:np.array->bool):\n",
    "    \"\"\"\n",
    "    es_cudrado_magico(a)\n",
    "    \n",
    "    Muestra si una matriz es un cuadrado magico o no\n",
    "\n",
    "    Parameters\n",
    "    ----------\n",
    "    a : np.array\n",
    "        matriz de enteros\n",
    "        \n",
    "    Returns\n",
    "    -------\n",
    "    output : bool\n",
    "        booliano que señala si la matriz es cuadrado magico o no\n",
    "        \n",
    "    Examples\n",
    "    --------\n",
    "    >>>es_cudrado_magico(np.array([[4,9,2],[3,5,7],[8,1,6]]))=True\n",
    "    \"\"\"\n",
    "    sumas=np.zeros(2*len(a)+2, dtype=int) #arreglo con las sumas de las filas, columnas y diag principales\n",
    "    m_n=(len(a)*(len(a)**2+1))/2 #suma de filas, columnas y diagonales principales si la matriz es cuadrada\n",
    "    \n",
    "    if cuad_y_cons(a)==True: #verifica si la matriz es cuadrada y sus entradas son consecutivas\n",
    "        for i in range(len(a)):\n",
    "            sumas[i]=sum_col(a,i) #agrega cada suma de columas al arreglo\n",
    "        for i in range(len(a)):\n",
    "            sumas[len(a)+i]=sum_fil(a,i) #agrega cada suma de filas al arreglo\n",
    "        sumas[2*len(a)]=diag_p(a) #agrega la suma de la diagonal principal al arreglo\n",
    "        sumas[2*len(a)+1]=diag_r(a) #agrega la suma de la diagonal inversa al arreglo\n",
    "        for i in range(len(sumas)):\n",
    "            if sumas[i]!=m_n: #verifica si todos los elementos son iguales a m_n\n",
    "                return False # si no, no es cuadrado magico\n",
    "        return True\n",
    "    else:\n",
    "        return False"
   ]
  },
  {
   "cell_type": "code",
   "execution_count": 191,
   "metadata": {},
   "outputs": [
    {
     "data": {
      "text/plain": [
       "False"
      ]
     },
     "execution_count": 191,
     "metadata": {},
     "output_type": "execute_result"
    }
   ],
   "source": [
    "B = np.array([[4,2,9],[3,5,7],[8,1,6]])\n",
    "es_cudrado_magico(B) "
   ]
  },
  {
   "cell_type": "markdown",
   "metadata": {},
   "source": [
    "### Verificar ejemplos"
   ]
  },
  {
   "cell_type": "code",
   "execution_count": null,
   "metadata": {},
   "outputs": [],
   "source": [
    "# ejemplo 01\n",
    "A = np.array([[4,9,2],[3,5,7],[8,1,6]])\n",
    "assert es_cudrado_magico(A) == True, \"ejemplo 01 incorrecto\""
   ]
  },
  {
   "cell_type": "code",
   "execution_count": null,
   "metadata": {},
   "outputs": [],
   "source": [
    "# ejemplo 02\n",
    "B = np.array([[4,2,9],[3,5,7],[8,1,6]])\n",
    "assert es_cudrado_magico(B) == False, \"ejemplo 02 incorrecto\""
   ]
  }
 ],
 "metadata": {
  "kernelspec": {
   "display_name": "Python 3",
   "language": "python",
   "name": "python3"
  },
  "language_info": {
   "codemirror_mode": {
    "name": "ipython",
    "version": 3
   },
   "file_extension": ".py",
   "mimetype": "text/x-python",
   "name": "python",
   "nbconvert_exporter": "python",
   "pygments_lexer": "ipython3",
   "version": "3.8.3"
  }
 },
 "nbformat": 4,
 "nbformat_minor": 4
}
